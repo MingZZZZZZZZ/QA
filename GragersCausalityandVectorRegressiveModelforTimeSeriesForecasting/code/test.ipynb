{
 "cells": [
  {
   "cell_type": "code",
   "execution_count": 7,
   "metadata": {
    "collapsed": true,
    "pycharm": {
     "is_executing": false
    }
   },
   "outputs": [
    {
     "name": "stdout",
     "text": [
      "['dataset_19991101_20191031.csv', '.~lock.vspomode_20191022_Midday_Midtown.csv#', 'code', 'source', 'Vector Autoregression (VAR) - Comprehensive Guide.pdf', '.idea', 'Granger’s Causality and Vector Auto Regressive Model for Time Series Forecasting.pdf', 'vspomode_20191022_Midday_Midtown.csv']\n"
     ],
     "output_type": "stream"
    }
   ],
   "source": [
    "import os\n",
    "print(os.listdir('/home/ming/Documents/dupe/GragersCausalityandVectorRegressiveModelforTimeSeriesForecasting'))\n"
   ]
  }
 ],
 "metadata": {
  "kernelspec": {
   "display_name": "Python 3",
   "language": "python",
   "name": "python3"
  },
  "language_info": {
   "codemirror_mode": {
    "name": "ipython",
    "version": 2
   },
   "file_extension": ".py",
   "mimetype": "text/x-python",
   "name": "python",
   "nbconvert_exporter": "python",
   "pygments_lexer": "ipython2",
   "version": "2.7.6"
  },
  "pycharm": {
   "stem_cell": {
    "cell_type": "raw",
    "source": [],
    "metadata": {
     "collapsed": false
    }
   }
  }
 },
 "nbformat": 4,
 "nbformat_minor": 0
}
